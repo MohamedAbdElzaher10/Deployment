{
 "cells": [
  {
   "cell_type": "code",
   "execution_count": 1,
   "id": "4be0fb06",
   "metadata": {},
   "outputs": [],
   "source": [
    "import pandas as pd\n",
    "import numpy as np\n",
    "\n",
    "import joblib\n"
   ]
  },
  {
   "cell_type": "code",
   "execution_count": 2,
   "id": "cb9394a3",
   "metadata": {},
   "outputs": [
    {
     "name": "stdout",
     "output_type": "stream",
     "text": [
      "WARNING:tensorflow:From C:\\Users\\Mo\\anaconda3\\Lib\\site-packages\\keras\\src\\losses.py:2976: The name tf.losses.sparse_softmax_cross_entropy is deprecated. Please use tf.compat.v1.losses.sparse_softmax_cross_entropy instead.\n",
      "\n",
      "WARNING:tensorflow:From C:\\Users\\Mo\\anaconda3\\Lib\\site-packages\\keras\\src\\backend.py:1398: The name tf.executing_eagerly_outside_functions is deprecated. Please use tf.compat.v1.executing_eagerly_outside_functions instead.\n",
      "\n",
      "WARNING:tensorflow:From C:\\Users\\Mo\\anaconda3\\Lib\\site-packages\\keras\\src\\optimizers\\__init__.py:309: The name tf.train.Optimizer is deprecated. Please use tf.compat.v1.train.Optimizer instead.\n",
      "\n"
     ]
    }
   ],
   "source": [
    "# Path to your HDF5 model file\n",
    "model_path = \"C:/Users/Mo/Graduation _Project/Deployment/Cloud_model.pkl\"\n",
    "\n",
    "# Load the model\n",
    "with open(model_path,'rb') as f:\n",
    "        \n",
    "    loaded_model = joblib.load(f)"
   ]
  },
  {
   "cell_type": "code",
   "execution_count": 3,
   "id": "bf9b67d9",
   "metadata": {},
   "outputs": [],
   "source": [
    "from flask import Flask, request, jsonify\n",
    "\n",
    "from flask_restful import Resource, Api\n",
    "\n",
    "from flask_cors import CORS"
   ]
  },
  {
   "cell_type": "markdown",
   "id": "6171f2f2",
   "metadata": {},
   "source": [
    "app= Flask(__name__)\n",
    "\n",
    "\n",
    "CORS(app)\n",
    "\n",
    "\n",
    "api=Api(app)\n",
    "\n",
    "\n",
    "@app.route('/')\n",
    "def home():\n",
    "    return \"Run successfully.....\"\n",
    "\n",
    "@app.route('/pridectcsv', methods=['POST'] )\n",
    "def predict():\n",
    "    \n",
    "    import pandas as pd\n",
    "    data_file = pd.read_csv(request.files.get(\"file\"))\n",
    "    data_file.head()\n",
    "    #data_file =  np.fromstring(data_file, np.uint8)\n",
    "    #data_csv = pd.read_csv(data_file)\n",
    "    from Functions_2 import pre_process_data\n",
    "    data = pre_process_data(data_file)\n",
    "    from Functions_2 import remove_duplicates\n",
    "    data = remove_duplicates(data)\n",
    "    from Functions_2 import adv_pre_process_data\n",
    "    data = adv_pre_process_data(data)\n",
    "    from Functions_2 import scaling_data\n",
    "    data_input_model = scaling_data(data)\n",
    "    # calculate the loss on the test set\n",
    "    data_pred = loaded_model.predict(data_input_model)\n",
    "    data_pred = data_pred.reshape(data_pred.shape[0], data_pred.shape[2])\n",
    "    print(data_pred)\n",
    "    column_name = list(data_file.columns)\n",
    "    print(column_name)\n",
    "    data_pred = pd.DataFrame(data_pred,columns=data.columns)\n",
    "    data_pred.index = data.index\n",
    "    print(data_pred)\n",
    "    scored = pd.DataFrame(index=data.index)\n",
    "    data_test = data_input_model.reshape(data_input_model.shape[0], data_input_model.shape[2])\n",
    "    scored['Loss_mae'] = np.mean(np.abs(data_pred-data_test), axis = 1)\n",
    "    scored['Threshold'] = 0.5\n",
    "    scored['Anomaly'] = scored['Loss_mae'] > scored['Threshold']\n",
    "    print(scored)\n",
    "\n",
    "\n",
    "    return scored.to_csv()\n",
    "if __name__ =='__main__':\n",
    "    app.run()\n"
   ]
  },
  {
   "cell_type": "code",
   "execution_count": 4,
   "id": "dd5b0fcb",
   "metadata": {},
   "outputs": [
    {
     "data": {
      "text/plain": [
       "'يارب كرمك'"
      ]
     },
     "execution_count": 4,
     "metadata": {},
     "output_type": "execute_result"
    }
   ],
   "source": [
    "\"يارب كرمك\""
   ]
  },
  {
   "cell_type": "code",
   "execution_count": 5,
   "id": "89b34f8e",
   "metadata": {},
   "outputs": [
    {
     "name": "stdout",
     "output_type": "stream",
     "text": [
      " * Serving Flask app '__main__'\n",
      " * Debug mode: off\n"
     ]
    },
    {
     "name": "stderr",
     "output_type": "stream",
     "text": [
      "WARNING: This is a development server. Do not use it in a production deployment. Use a production WSGI server instead.\n",
      " * Running on http://127.0.0.1:5000\n",
      "Press CTRL+C to quit\n"
     ]
    },
    {
     "name": "stdout",
     "output_type": "stream",
     "text": [
      "1/1 [==============================] - 1s 741ms/step\n"
     ]
    },
    {
     "name": "stderr",
     "output_type": "stream",
     "text": [
      "127.0.0.1 - - [07/Jul/2024 21:33:08] \"POST /pridectcsv HTTP/1.1\" 200 -\n"
     ]
    }
   ],
   "source": [
    "app= Flask(__name__)\n",
    "\n",
    "\n",
    "CORS(app)\n",
    "\n",
    "\n",
    "api=Api(app)\n",
    "\n",
    "\n",
    "@app.route('/')\n",
    "def home():\n",
    "    return \"Run successfully.....\"\n",
    "\n",
    "@app.route('/pridectcsv', methods=['POST'] )\n",
    "def predict():\n",
    "    \n",
    "    import pandas as pd\n",
    "    data_json = request.json\n",
    "    #print(data_json)\n",
    "    data_file = pd.DataFrame(data=data_json)\n",
    "    \n",
    "    #print(data_file.columns)\n",
    "\n",
    "    from Functions_2 import pre_process_data\n",
    "    data = pre_process_data(data_file)\n",
    "    from Functions_2 import remove_duplicates\n",
    "    data = remove_duplicates(data)\n",
    "    from Functions_2 import adv_pre_process_data\n",
    "    data = adv_pre_process_data(data)\n",
    "    from Functions_2 import scaling_data\n",
    "    data_input_model = scaling_data(data)\n",
    "    # calculate the loss on the test set\n",
    "    data_pred = loaded_model.predict(data_input_model)\n",
    "    data_pred = data_pred.reshape(data_pred.shape[0], data_pred.shape[2])\n",
    "    #print(data_pred)\n",
    "    column_name = list(data_file.columns)\n",
    "    #print(column_name)\n",
    "    data_pred = pd.DataFrame(data_pred,columns=data.columns)\n",
    "    data_pred.index = data.index\n",
    "    #print(data_pred)\n",
    "    scored = pd.DataFrame(index=data.index)\n",
    "    data_test = data_input_model.reshape(data_input_model.shape[0], data_input_model.shape[2])\n",
    "    scored['Loss_mae'] = np.mean(np.abs(data_pred-data_test), axis = 1)\n",
    "    scored['Threshold'] = 0.5\n",
    "    scored['Anomaly'] = scored['Loss_mae'] > scored['Threshold']\n",
    "    #print(scored)\n",
    "\n",
    "\n",
    "    return scored.to_json()\n",
    "if __name__ =='__main__':\n",
    "    app.run()\n"
   ]
  },
  {
   "cell_type": "code",
   "execution_count": null,
   "id": "fd61dcf3",
   "metadata": {},
   "outputs": [],
   "source": []
  }
 ],
 "metadata": {
  "kernelspec": {
   "display_name": "Python 3 (ipykernel)",
   "language": "python",
   "name": "python3"
  },
  "language_info": {
   "codemirror_mode": {
    "name": "ipython",
    "version": 3
   },
   "file_extension": ".py",
   "mimetype": "text/x-python",
   "name": "python",
   "nbconvert_exporter": "python",
   "pygments_lexer": "ipython3",
   "version": "3.11.5"
  }
 },
 "nbformat": 4,
 "nbformat_minor": 5
}
